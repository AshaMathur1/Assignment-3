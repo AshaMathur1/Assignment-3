{
 "cells": [
  {
   "cell_type": "code",
   "execution_count": null,
   "id": "88089336",
   "metadata": {},
   "outputs": [],
   "source": [
    "#1. Functions are advantageous to have in our program because they reduces complexity and improves the efficiency of the program.\n",
    " # Functions are the sub parts of the program which can be reused as and when rquired multiple times for specified tasks, and they can be called in any program."
   ]
  },
  {
   "cell_type": "code",
   "execution_count": null,
   "id": "7d218e74",
   "metadata": {},
   "outputs": [],
   "source": [
    "#2. When does the code in a function run: when it's specified or when it's called?\n",
    "\n",
    "#Code in a function runs when it is called."
   ]
  },
  {
   "cell_type": "code",
   "execution_count": 1,
   "id": "a4819b4e",
   "metadata": {},
   "outputs": [],
   "source": [
    "#3. What statement creates a function?\n",
    "\n",
    "#Function is created by the keyword def then function name & parenthesis following it.\n"
   ]
  },
  {
   "cell_type": "code",
   "execution_count": 2,
   "id": "e6148db7",
   "metadata": {},
   "outputs": [],
   "source": [
    "#4. What is the difference between a function and a function call?\n",
    "\n",
    "#A function is a block of code, contains parameters which can be used multiple times when required. \n",
    "# A function call is a call to a pre-defined function whenever we require some specific output. Function call is function name followed by parenthesis."
   ]
  },
  {
   "cell_type": "code",
   "execution_count": 1,
   "id": "e346778c",
   "metadata": {},
   "outputs": [],
   "source": [
    "# 5. How many global scopes are there in a Python program? How many local scopes?\n",
    "\n",
    "# There is only one global scope per program execution. Any number of local scops can be there is a program, as it's the scope found in a function defined inside a code.\n"
   ]
  },
  {
   "cell_type": "code",
   "execution_count": 2,
   "id": "876517bd",
   "metadata": {},
   "outputs": [],
   "source": [
    "#6. What happens to variables in a local scope when the function call returns?\n",
    "\n",
    "# Local variable retains it's value untill the function is called next time. It becomes undefined once the function call completes.and it can be used anytime outside of the function, once the function call completes."
   ]
  },
  {
   "cell_type": "code",
   "execution_count": 1,
   "id": "2f748157",
   "metadata": {},
   "outputs": [],
   "source": [
    "#7. What is the concept of a return value? Is it possible to have a return value in an expression?\n",
    "#Return statement is used to end the execution of a function call, it returns the value of expression written after the return statement.\n",
    "#If there is no expression provided after retuen statement, it returns \"None\".\n"
   ]
  },
  {
   "cell_type": "code",
   "execution_count": 2,
   "id": "359006b1",
   "metadata": {},
   "outputs": [],
   "source": [
    "#8. If a function does not have a return statement, what is the return value of a call to that function?\n",
    "#If a function does not contain a return statemnet, the return value of a call to that function would be \"None\"."
   ]
  },
  {
   "cell_type": "code",
   "execution_count": 3,
   "id": "db0ffc96",
   "metadata": {},
   "outputs": [],
   "source": [
    "#9. How do you make a function variable refer to the global variable?\n",
    "# To make a function variable a refer to the global variable, we can use the keyword \"Global\", it makes the scope of that variable as Global."
   ]
  },
  {
   "cell_type": "code",
   "execution_count": 4,
   "id": "79d91b8e",
   "metadata": {},
   "outputs": [],
   "source": [
    "#10. What is the data type of None?\n",
    "# None is a keyword which means \"no value at all\", its the data type in itself that is \"None Type\"."
   ]
  },
  {
   "cell_type": "code",
   "execution_count": 5,
   "id": "dd251b14",
   "metadata": {},
   "outputs": [],
   "source": [
    "#11. What does the sentence import areallyourpetsnamederic do?\n",
    "# This is an import statement which imports module named \"areallyourpetsnamederic\"."
   ]
  },
  {
   "cell_type": "code",
   "execution_count": 6,
   "id": "733bb84b",
   "metadata": {},
   "outputs": [],
   "source": [
    "#12. If you had a bacon() feature in a spam module, what would you call it after importing spam?\n",
    "#We can call it as spam.bacon()"
   ]
  },
  {
   "cell_type": "code",
   "execution_count": 7,
   "id": "391abe28",
   "metadata": {},
   "outputs": [],
   "source": [
    "#13. What can you do to save a programme from crashing if it encounters an error?\n",
    "# With help of error handling, we can save our programme from crashing.(We can do it by using exception handling, try and except).#"
   ]
  },
  {
   "cell_type": "code",
   "execution_count": null,
   "id": "001b9c9e",
   "metadata": {},
   "outputs": [],
   "source": [
    "#14. What is the purpose of the try clause? What is the purpose of the except clause?\n",
    "#Purpose of Try clause is to allow a block of code to be tested for errors.\n",
    "#Purpose of Except clause is to handle the error."
   ]
  }
 ],
 "metadata": {
  "kernelspec": {
   "display_name": "Python 3 (ipykernel)",
   "language": "python",
   "name": "python3"
  },
  "language_info": {
   "codemirror_mode": {
    "name": "ipython",
    "version": 3
   },
   "file_extension": ".py",
   "mimetype": "text/x-python",
   "name": "python",
   "nbconvert_exporter": "python",
   "pygments_lexer": "ipython3",
   "version": "3.9.7"
  }
 },
 "nbformat": 4,
 "nbformat_minor": 5
}
